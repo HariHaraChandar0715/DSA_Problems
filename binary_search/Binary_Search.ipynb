{
 "cells": [
  {
   "cell_type": "code",
   "execution_count": 23,
   "id": "a594ab2d",
   "metadata": {},
   "outputs": [],
   "source": [
    "## binary Search\n",
    "\n",
    "\n",
    "def binary_search(array,search_element):\n",
    "    left = 0\n",
    "    right = (len(array) - 1)\n",
    "    while(left <= right):\n",
    "        mid = (left + right) // 2\n",
    "        if(array[mid] == search_element):\n",
    "            return mid\n",
    "        elif(search_element < array[mid]):\n",
    "            right = (mid - 1)\n",
    "        elif( search_element > array[mid]):\n",
    "            left = (mid + 1)\n",
    "    return -1\n",
    "        \n",
    "        \n"
   ]
  },
  {
   "cell_type": "markdown",
   "id": "efcc0127",
   "metadata": {},
   "source": [
    "### Recursion"
   ]
  },
  {
   "cell_type": "code",
   "execution_count": 3,
   "id": "8e4c714a",
   "metadata": {},
   "outputs": [],
   "source": [
    "def binary_search(arr:list, search_element: int, left : int, right : int):\n",
    "    mid = (left + right) // 2\n",
    "    if(left > right):\n",
    "        return -1\n",
    "    elif(arr[mid] == search_element):\n",
    "        return mid\n",
    "    elif(search_element > arr[mid]):\n",
    "        left = (mid + 1)\n",
    "        return binary_search(arr, search_element, left, right)\n",
    "    else:\n",
    "        right = (mid - 1)\n",
    "        return binary_search(arr, search_element, left, right)\n",
    "        "
   ]
  },
  {
   "cell_type": "code",
   "execution_count": 4,
   "id": "41ca53f0",
   "metadata": {},
   "outputs": [],
   "source": [
    "def main():\n",
    "    arr = []\n",
    "    size = int(input(\"Enter your size :\"))\n",
    "    for i in range(size):\n",
    "        ipt = int(input(\"Enter your input :\"))\n",
    "        arr.append(ipt)\n",
    "    search_element = int(input(\"Enter your search element :\"))\n",
    "    l = 0\n",
    "    r = (len(arr) - 1)\n",
    "    result = binary_search(arr,search_element,l,r)\n",
    "    print(result)"
   ]
  },
  {
   "cell_type": "markdown",
   "id": "b46850be",
   "metadata": {},
   "source": [
    "### Search Element from Middle"
   ]
  },
  {
   "cell_type": "code",
   "execution_count": 5,
   "id": "83c2acdb",
   "metadata": {},
   "outputs": [
    {
     "name": "stdout",
     "output_type": "stream",
     "text": [
      "Enter your size :4\n",
      "Enter your input :1\n",
      "Enter your input :2\n",
      "Enter your input :3\n",
      "Enter your input :5\n",
      "Enter your search element :3\n",
      "2\n"
     ]
    }
   ],
   "source": [
    "main()"
   ]
  },
  {
   "cell_type": "markdown",
   "id": "e51b913e",
   "metadata": {},
   "source": [
    "### Search Element from Last"
   ]
  },
  {
   "cell_type": "code",
   "execution_count": 6,
   "id": "082b3fd2",
   "metadata": {},
   "outputs": [
    {
     "name": "stdout",
     "output_type": "stream",
     "text": [
      "Enter your size :4\n",
      "Enter your input :1\n",
      "Enter your input :2\n",
      "Enter your input :3\n",
      "Enter your input :5\n",
      "Enter your search element :5\n",
      "3\n"
     ]
    }
   ],
   "source": [
    "main()"
   ]
  },
  {
   "cell_type": "markdown",
   "id": "7943f98a",
   "metadata": {},
   "source": [
    "### Search Element from first"
   ]
  },
  {
   "cell_type": "code",
   "execution_count": 7,
   "id": "2adb9388",
   "metadata": {},
   "outputs": [
    {
     "name": "stdout",
     "output_type": "stream",
     "text": [
      "Enter your size :4\n",
      "Enter your input :1\n",
      "Enter your input :2\n",
      "Enter your input :3\n",
      "Enter your input :5\n",
      "Enter your search element :1\n",
      "0\n"
     ]
    }
   ],
   "source": [
    "main()"
   ]
  },
  {
   "cell_type": "markdown",
   "id": "21b09925",
   "metadata": {},
   "source": [
    "### Search Invalid Element "
   ]
  },
  {
   "cell_type": "code",
   "execution_count": 8,
   "id": "bf931580",
   "metadata": {},
   "outputs": [
    {
     "name": "stdout",
     "output_type": "stream",
     "text": [
      "Enter your size :4\n",
      "Enter your input :1\n",
      "Enter your input :2\n",
      "Enter your input :3\n",
      "Enter your input :5\n",
      "Enter your search element :10\n",
      "-1\n"
     ]
    }
   ],
   "source": [
    "main()"
   ]
  },
  {
   "cell_type": "code",
   "execution_count": null,
   "id": "8c0df5b5",
   "metadata": {},
   "outputs": [],
   "source": []
  }
 ],
 "metadata": {
  "kernelspec": {
   "display_name": "Python 3 (ipykernel)",
   "language": "python",
   "name": "python3"
  },
  "language_info": {
   "codemirror_mode": {
    "name": "ipython",
    "version": 3
   },
   "file_extension": ".py",
   "mimetype": "text/x-python",
   "name": "python",
   "nbconvert_exporter": "python",
   "pygments_lexer": "ipython3",
   "version": "3.10.9"
  }
 },
 "nbformat": 4,
 "nbformat_minor": 5
}
